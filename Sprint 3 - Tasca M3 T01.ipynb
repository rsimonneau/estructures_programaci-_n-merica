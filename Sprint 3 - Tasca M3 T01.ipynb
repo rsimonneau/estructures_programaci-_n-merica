{
 "cells": [
  {
   "cell_type": "markdown",
   "id": "78dd6d66",
   "metadata": {},
   "source": [
    "Exercici 1"
   ]
  },
  {
   "cell_type": "code",
   "execution_count": 1,
   "id": "76ad4b45",
   "metadata": {},
   "outputs": [
    {
     "name": "stdout",
     "output_type": "stream",
     "text": [
      "número de files:3\n",
      "número de columnes:0\n",
      "[-0.2333661  -0.47282613 -0.44532319]\n",
      "mitjana aritmètica: -0.38383847460686543\n",
      "mediana: -0.44532318919032976\n",
      "variança: 0.011447036183328221\n",
      "desviació estàndard: 0.10699082289303238\n"
     ]
    }
   ],
   "source": [
    "# Crea una funció que donat un Array d’una dimensió, et faci un resum estadístic bàsic de les dades. \n",
    "# Si detecta que l’array té més d’una dimensió, ha de mostrar un missatge d’error.\n",
    "\n",
    "import numpy as np   \n",
    "  \n",
    "\n",
    "axis0 = int(input(\"número de files:\"))\n",
    "axis1 = int(input(\"número de columnes:\")) # dos dimensions\n",
    "array_1D = np.random.randn(axis0)\n",
    "array_2D = np.random.randn(axis0,axis1)\n",
    "\n",
    "def resum_estadístic(axis1):\n",
    "    if axis1 == 0:\n",
    "        print(array_1D)\n",
    "        print(\"mitjana aritmètica:\", np.mean(array_1D))\n",
    "        print(\"mediana:\", np.median(array_1D))\n",
    "        print(\"variança:\", np.var(array_1D))\n",
    "        print(\"desviació estàndard:\", np.std(array_1D))\n",
    "    elif axis1 > 0:\n",
    "        print(array_2D, \"ERROR: Array de dos dimensions!\")\n",
    "\n",
    "resum_estadístic(axis1)"
   ]
  },
  {
   "cell_type": "code",
   "execution_count": 2,
   "id": "db432bd1",
   "metadata": {},
   "outputs": [
    {
     "name": "stdout",
     "output_type": "stream",
     "text": [
      "número de files:3\n",
      "número de columnes:0\n",
      "[ 0.04517481 -0.27624416  0.47643736]\n",
      "              0\n",
      "count  3.000000\n",
      "mean   0.081789\n",
      "std    0.377674\n",
      "min   -0.276244\n",
      "25%   -0.115535\n",
      "50%    0.045175\n",
      "75%    0.260806\n",
      "max    0.476437\n"
     ]
    }
   ],
   "source": [
    "# Crea una funció que donat un Array d’una dimensió, et faci un resum estadístic bàsic de les dades. \n",
    "# Si detecta que l’array té més d’una dimensió, ha de mostrar un missatge d’error.\n",
    "\n",
    "# Resum estadístic amb PANDAS\n",
    "\n",
    "import numpy as np\n",
    "import pandas as pd\n",
    "  \n",
    "\n",
    "axis0 = int(input(\"número de files:\"))\n",
    "axis1 = int(input(\"número de columnes:\")) # dos dimensions\n",
    "array_1D = np.random.randn(axis0)\n",
    "array_2D = np.random.randn(axis0,axis1)\n",
    "dataframe = pd.DataFrame(array_1D)\n",
    "\n",
    "def resum_estadístic(axis1):\n",
    "    if axis1 == 0:\n",
    "        print(array_1D)\n",
    "        print(dataframe.describe())\n",
    "    elif axis1 > 0:\n",
    "        print(array_2D, \"ERROR: Array de dos dimensions!\")\n",
    "\n",
    "resum_estadístic(axis1)"
   ]
  },
  {
   "cell_type": "markdown",
   "id": "230e3970",
   "metadata": {},
   "source": [
    "Exercici 2"
   ]
  },
  {
   "cell_type": "code",
   "execution_count": 3,
   "id": "e8547498",
   "metadata": {},
   "outputs": [
    {
     "name": "stdout",
     "output_type": "stream",
     "text": [
      "número de files i columnes:4\n",
      "[[32 78 30 68]\n",
      " [26 33 95 26]\n",
      " [88 96 74  5]\n",
      " [78 65 12 90]]\n"
     ]
    }
   ],
   "source": [
    "# Crea una funció que et generi un quadrat NxN de nombres aleatoris entre el 0 i el 100.\n",
    "\n",
    "import numpy as np  \n",
    "\n",
    "N = int(input(\"número de files i columnes:\"))\n",
    "\n",
    "def quadrat(N):\n",
    "    if N > 0:\n",
    "        print(np.random.randint(0,100, size=(N, N)))\n",
    "    else:\n",
    "        print(\"ERROR!!!\")\n",
    "\n",
    "quadrat(N)\n"
   ]
  },
  {
   "cell_type": "markdown",
   "id": "4ab87bbf",
   "metadata": {},
   "source": [
    "Exercici 3"
   ]
  },
  {
   "cell_type": "code",
   "execution_count": 4,
   "id": "e2c62c73",
   "metadata": {},
   "outputs": [
    {
     "name": "stdout",
     "output_type": "stream",
     "text": [
      "número de files:4\n",
      "número de columnes:5\n",
      "          0         1         2         3         4\n",
      "0  0.601599 -0.495798  0.875886  0.065048 -0.135354\n",
      "1  1.443939 -0.840304 -0.000046 -1.362874 -0.086135\n",
      "2  0.708255  0.115308  0.339592 -1.469009 -0.662444\n",
      "3 -1.085779  1.769215 -1.687960 -1.043886  2.085534\n",
      "totals per columna: 0    1.668014\n",
      "1    0.548421\n",
      "2   -0.472528\n",
      "3   -3.810721\n",
      "4    1.201601\n",
      "dtype: float64\n",
      "totals per fila: 0    0.911381\n",
      "1   -0.845421\n",
      "2   -0.968298\n",
      "3    0.037124\n",
      "dtype: float64\n"
     ]
    }
   ],
   "source": [
    "# Crea una funció que donada una taula de dues dimensions (NxM), et calculi els totals per fila i els totals per columna.\n",
    "\n",
    "# amb PANDAS\n",
    "\n",
    "import numpy as np\n",
    "import pandas as pd\n",
    "\n",
    "N = int(input(\"número de files:\"))\n",
    "M = int(input(\"número de columnes:\"))\n",
    "taula = (np.random.randn(N, M))\n",
    "df = pd.DataFrame(taula)\n",
    "print(df)\n",
    "\n",
    "def totals(N, M):\n",
    "    if N > 0 and M > 0:\n",
    "        print(\"totals per columna:\", df.sum())\n",
    "        print(\"totals per fila:\", df.sum(axis=1))\n",
    "\n",
    "    else:\n",
    "        print(\"ERROR!!!\")\n",
    "\n",
    "totals(N, M)\n",
    "\n",
    "\n"
   ]
  },
  {
   "cell_type": "code",
   "execution_count": 5,
   "id": "02134760",
   "metadata": {},
   "outputs": [
    {
     "name": "stdout",
     "output_type": "stream",
     "text": [
      "número de files:4\n",
      "número de columnes:5\n",
      "          0         1         2         3         4\n",
      "0  0.472600  0.033330 -1.146676 -0.057624  0.758561\n",
      "1  0.501744 -0.332373 -0.003418  0.118753  0.152452\n",
      "2 -0.859114 -0.032043  0.399974 -0.931357  1.858019\n",
      "3 -1.042961 -0.614760  0.261109 -0.434337 -0.574110\n",
      "totals per columna: [-0.92773116 -0.94584565 -0.48901099 -1.30456457  2.19492137]\n",
      "totals per fila: [ 0.0601914   0.43715746  0.43547935 -2.40505922]\n"
     ]
    }
   ],
   "source": [
    "# amb NUMPY\n",
    "\n",
    "import numpy as np\n",
    "import pandas as pd\n",
    "\n",
    "N = int(input(\"número de files:\"))\n",
    "M = int(input(\"número de columnes:\"))\n",
    "taula = (np.random.randn(N, M))\n",
    "df = pd.DataFrame(taula)\n",
    "print(df)\n",
    "\n",
    "def totals_numpy(N, M):\n",
    "    if N > 0 and M > 0:\n",
    "        print(\"totals per columna:\", np.sum(taula, axis=0))\n",
    "        print(\"totals per fila:\", np.sum(taula, axis=1))\n",
    "\n",
    "    else:\n",
    "        print(\"ERROR!!!\")\n",
    "\n",
    "totals_numpy(N, M)\n"
   ]
  },
  {
   "cell_type": "markdown",
   "id": "57a8f440",
   "metadata": {},
   "source": [
    "Exercici 4"
   ]
  },
  {
   "cell_type": "code",
   "execution_count": 6,
   "id": "97e0443c",
   "metadata": {},
   "outputs": [
    {
     "name": "stdout",
     "output_type": "stream",
     "text": [
      "total dades:10\n",
      "[-1.34198043 -0.51434794 -0.28221702  0.80449306 -0.26857624 -1.21992855\n",
      "  0.11615271  1.40354612 -0.3021953   0.40983575]\n",
      "[ 0.64261358  0.12205065  1.90470089 -0.16126326 -0.0760222  -0.57661434\n",
      "  1.78187115 -0.45446025  0.07129275  0.41093211]\n",
      "R: [[ 1.         -0.10922657]\n",
      " [-0.10922657  1.        ]]\n"
     ]
    }
   ],
   "source": [
    "# Implementa manualment una funció que calculi el coeficient de correlació.\n",
    "# Informa-te'n sobre els seus usos i interpretació.\n",
    "\n",
    "import numpy as np\n",
    "\n",
    "Dades = int(input(\"total dades:\"))\n",
    "valors_variable_1 = np.random.randn(Dades)\n",
    "valors_variable_2 = np.random.randn(Dades)\n",
    "\n",
    "\n",
    "def Coef_Correlació(Dades):\n",
    "    if Dades > 0:\n",
    "        print(valors_variable_1)\n",
    "        print(valors_variable_2)\n",
    "        print(\"R:\", np.corrcoef(valors_variable_1, valors_variable_2))\n",
    "       \n",
    "    else:\n",
    "        print(\"ERROR: no hi ha dades suficients\")\n",
    "\n",
    "Coef_Correlació(Dades)\n"
   ]
  },
  {
   "cell_type": "code",
   "execution_count": null,
   "id": "2f4cea0a",
   "metadata": {},
   "outputs": [],
   "source": []
  }
 ],
 "metadata": {
  "kernelspec": {
   "display_name": "Python 3 (ipykernel)",
   "language": "python",
   "name": "python3"
  },
  "language_info": {
   "codemirror_mode": {
    "name": "ipython",
    "version": 3
   },
   "file_extension": ".py",
   "mimetype": "text/x-python",
   "name": "python",
   "nbconvert_exporter": "python",
   "pygments_lexer": "ipython3",
   "version": "3.9.12"
  },
  "toc": {
   "base_numbering": 1,
   "nav_menu": {},
   "number_sections": true,
   "sideBar": true,
   "skip_h1_title": false,
   "title_cell": "Table of Contents",
   "title_sidebar": "Contents",
   "toc_cell": false,
   "toc_position": {},
   "toc_section_display": true,
   "toc_window_display": false
  }
 },
 "nbformat": 4,
 "nbformat_minor": 5
}
